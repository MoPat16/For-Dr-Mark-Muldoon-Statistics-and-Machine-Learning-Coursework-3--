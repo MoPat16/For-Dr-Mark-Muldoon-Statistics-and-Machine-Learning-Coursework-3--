{
 "cells": [
  {
   "cell_type": "code",
   "execution_count": 19,
   "metadata": {},
   "outputs": [],
   "source": [
    "# Import modules needed\n",
    "import math # for floor()\n",
    "import numpy as np\n",
    "import pandas as pd\n",
    "import datetime as dt\n",
    "import scipy.stats as sp\n",
    "import matplotlib.pyplot as plt"
   ]
  },
  {
   "cell_type": "code",
   "execution_count": 20,
   "metadata": {},
   "outputs": [
    {
     "data": {
      "text/html": [
       "<div>\n",
       "<style scoped>\n",
       "    .dataframe tbody tr th:only-of-type {\n",
       "        vertical-align: middle;\n",
       "    }\n",
       "\n",
       "    .dataframe tbody tr th {\n",
       "        vertical-align: top;\n",
       "    }\n",
       "\n",
       "    .dataframe thead th {\n",
       "        text-align: right;\n",
       "    }\n",
       "</style>\n",
       "<table border=\"1\" class=\"dataframe\">\n",
       "  <thead>\n",
       "    <tr style=\"text-align: right;\">\n",
       "      <th></th>\n",
       "      <th>subj.num</th>\n",
       "      <th>secs.since.peak</th>\n",
       "      <th>avg.signal</th>\n",
       "      <th>sd.signal</th>\n",
       "      <th>mean</th>\n",
       "      <th>sd</th>\n",
       "      <th>z</th>\n",
       "    </tr>\n",
       "  </thead>\n",
       "  <tbody>\n",
       "    <tr>\n",
       "      <th>0</th>\n",
       "      <td>8</td>\n",
       "      <td>0.0</td>\n",
       "      <td>2.003073</td>\n",
       "      <td>0.204452</td>\n",
       "      <td>0.153964</td>\n",
       "      <td>1.222439</td>\n",
       "      <td>1.512639</td>\n",
       "    </tr>\n",
       "    <tr>\n",
       "      <th>1</th>\n",
       "      <td>8</td>\n",
       "      <td>0.1</td>\n",
       "      <td>0.736216</td>\n",
       "      <td>0.373815</td>\n",
       "      <td>0.153964</td>\n",
       "      <td>1.222439</td>\n",
       "      <td>0.476304</td>\n",
       "    </tr>\n",
       "    <tr>\n",
       "      <th>2</th>\n",
       "      <td>8</td>\n",
       "      <td>0.2</td>\n",
       "      <td>-0.260717</td>\n",
       "      <td>0.229624</td>\n",
       "      <td>0.153964</td>\n",
       "      <td>1.222439</td>\n",
       "      <td>-0.339224</td>\n",
       "    </tr>\n",
       "    <tr>\n",
       "      <th>3</th>\n",
       "      <td>8</td>\n",
       "      <td>0.3</td>\n",
       "      <td>-0.720213</td>\n",
       "      <td>0.182797</td>\n",
       "      <td>0.153964</td>\n",
       "      <td>1.222439</td>\n",
       "      <td>-0.715109</td>\n",
       "    </tr>\n",
       "    <tr>\n",
       "      <th>4</th>\n",
       "      <td>8</td>\n",
       "      <td>0.4</td>\n",
       "      <td>-0.884780</td>\n",
       "      <td>0.177141</td>\n",
       "      <td>0.153964</td>\n",
       "      <td>1.222439</td>\n",
       "      <td>-0.849731</td>\n",
       "    </tr>\n",
       "    <tr>\n",
       "      <th>5</th>\n",
       "      <td>8</td>\n",
       "      <td>0.5</td>\n",
       "      <td>-0.871661</td>\n",
       "      <td>0.193434</td>\n",
       "      <td>0.153964</td>\n",
       "      <td>1.222439</td>\n",
       "      <td>-0.838999</td>\n",
       "    </tr>\n",
       "    <tr>\n",
       "      <th>6</th>\n",
       "      <td>8</td>\n",
       "      <td>0.6</td>\n",
       "      <td>-0.846923</td>\n",
       "      <td>0.151491</td>\n",
       "      <td>0.153964</td>\n",
       "      <td>1.222439</td>\n",
       "      <td>-0.818762</td>\n",
       "    </tr>\n",
       "    <tr>\n",
       "      <th>7</th>\n",
       "      <td>8</td>\n",
       "      <td>0.7</td>\n",
       "      <td>-0.578307</td>\n",
       "      <td>0.218042</td>\n",
       "      <td>0.153964</td>\n",
       "      <td>1.222439</td>\n",
       "      <td>-0.599025</td>\n",
       "    </tr>\n",
       "    <tr>\n",
       "      <th>8</th>\n",
       "      <td>8</td>\n",
       "      <td>0.8</td>\n",
       "      <td>0.144732</td>\n",
       "      <td>0.233710</td>\n",
       "      <td>0.153964</td>\n",
       "      <td>1.222439</td>\n",
       "      <td>-0.007552</td>\n",
       "    </tr>\n",
       "    <tr>\n",
       "      <th>9</th>\n",
       "      <td>8</td>\n",
       "      <td>0.9</td>\n",
       "      <td>1.091171</td>\n",
       "      <td>0.255769</td>\n",
       "      <td>0.153964</td>\n",
       "      <td>1.222439</td>\n",
       "      <td>0.766670</td>\n",
       "    </tr>\n",
       "    <tr>\n",
       "      <th>10</th>\n",
       "      <td>8</td>\n",
       "      <td>1.0</td>\n",
       "      <td>1.881008</td>\n",
       "      <td>0.278399</td>\n",
       "      <td>0.153964</td>\n",
       "      <td>1.222439</td>\n",
       "      <td>1.412786</td>\n",
       "    </tr>\n",
       "  </tbody>\n",
       "</table>\n",
       "</div>"
      ],
      "text/plain": [
       "    subj.num  secs.since.peak  avg.signal  sd.signal      mean        sd  \\\n",
       "0          8              0.0    2.003073   0.204452  0.153964  1.222439   \n",
       "1          8              0.1    0.736216   0.373815  0.153964  1.222439   \n",
       "2          8              0.2   -0.260717   0.229624  0.153964  1.222439   \n",
       "3          8              0.3   -0.720213   0.182797  0.153964  1.222439   \n",
       "4          8              0.4   -0.884780   0.177141  0.153964  1.222439   \n",
       "5          8              0.5   -0.871661   0.193434  0.153964  1.222439   \n",
       "6          8              0.6   -0.846923   0.151491  0.153964  1.222439   \n",
       "7          8              0.7   -0.578307   0.218042  0.153964  1.222439   \n",
       "8          8              0.8    0.144732   0.233710  0.153964  1.222439   \n",
       "9          8              0.9    1.091171   0.255769  0.153964  1.222439   \n",
       "10         8              1.0    1.881008   0.278399  0.153964  1.222439   \n",
       "\n",
       "           z  \n",
       "0   1.512639  \n",
       "1   0.476304  \n",
       "2  -0.339224  \n",
       "3  -0.715109  \n",
       "4  -0.849731  \n",
       "5  -0.838999  \n",
       "6  -0.818762  \n",
       "7  -0.599025  \n",
       "8  -0.007552  \n",
       "9   0.766670  \n",
       "10  1.412786  "
      ]
     },
     "execution_count": 20,
     "metadata": {},
     "output_type": "execute_result"
    }
   ],
   "source": [
    "# Get the data into a Pandas dataframe\n",
    "csv_file = \"WSF8.csv\"\n",
    "wsf8_df = pd.read_csv( csv_file, comment='#' )\n",
    "wsf8_df"
   ]
  },
  {
   "cell_type": "code",
   "execution_count": 21,
   "metadata": {},
   "outputs": [
    {
     "data": {
      "text/html": [
       "<div>\n",
       "<style scoped>\n",
       "    .dataframe tbody tr th:only-of-type {\n",
       "        vertical-align: middle;\n",
       "    }\n",
       "\n",
       "    .dataframe tbody tr th {\n",
       "        vertical-align: top;\n",
       "    }\n",
       "\n",
       "    .dataframe thead th {\n",
       "        text-align: right;\n",
       "    }\n",
       "</style>\n",
       "<table border=\"1\" class=\"dataframe\">\n",
       "  <thead>\n",
       "    <tr style=\"text-align: right;\">\n",
       "      <th></th>\n",
       "      <th>subj.num</th>\n",
       "      <th>secs.since.peak</th>\n",
       "      <th>avg.signal</th>\n",
       "      <th>sd.signal</th>\n",
       "      <th>mean</th>\n",
       "      <th>sd</th>\n",
       "      <th>z</th>\n",
       "    </tr>\n",
       "  </thead>\n",
       "  <tbody>\n",
       "    <tr>\n",
       "      <th>0</th>\n",
       "      <td>8</td>\n",
       "      <td>0.0</td>\n",
       "      <td>2.003073</td>\n",
       "      <td>0.204452</td>\n",
       "      <td>0.153964</td>\n",
       "      <td>1.222439</td>\n",
       "      <td>1.512639</td>\n",
       "    </tr>\n",
       "    <tr>\n",
       "      <th>1</th>\n",
       "      <td>8</td>\n",
       "      <td>0.1</td>\n",
       "      <td>0.736216</td>\n",
       "      <td>0.373815</td>\n",
       "      <td>0.153964</td>\n",
       "      <td>1.222439</td>\n",
       "      <td>0.476304</td>\n",
       "    </tr>\n",
       "    <tr>\n",
       "      <th>2</th>\n",
       "      <td>8</td>\n",
       "      <td>0.2</td>\n",
       "      <td>-0.260717</td>\n",
       "      <td>0.229624</td>\n",
       "      <td>0.153964</td>\n",
       "      <td>1.222439</td>\n",
       "      <td>-0.339224</td>\n",
       "    </tr>\n",
       "    <tr>\n",
       "      <th>3</th>\n",
       "      <td>8</td>\n",
       "      <td>0.3</td>\n",
       "      <td>-0.720213</td>\n",
       "      <td>0.182797</td>\n",
       "      <td>0.153964</td>\n",
       "      <td>1.222439</td>\n",
       "      <td>-0.715109</td>\n",
       "    </tr>\n",
       "    <tr>\n",
       "      <th>4</th>\n",
       "      <td>8</td>\n",
       "      <td>0.4</td>\n",
       "      <td>-0.884780</td>\n",
       "      <td>0.177141</td>\n",
       "      <td>0.153964</td>\n",
       "      <td>1.222439</td>\n",
       "      <td>-0.849731</td>\n",
       "    </tr>\n",
       "    <tr>\n",
       "      <th>5</th>\n",
       "      <td>8</td>\n",
       "      <td>0.5</td>\n",
       "      <td>-0.871661</td>\n",
       "      <td>0.193434</td>\n",
       "      <td>0.153964</td>\n",
       "      <td>1.222439</td>\n",
       "      <td>-0.838999</td>\n",
       "    </tr>\n",
       "    <tr>\n",
       "      <th>6</th>\n",
       "      <td>8</td>\n",
       "      <td>0.6</td>\n",
       "      <td>-0.846923</td>\n",
       "      <td>0.151491</td>\n",
       "      <td>0.153964</td>\n",
       "      <td>1.222439</td>\n",
       "      <td>-0.818762</td>\n",
       "    </tr>\n",
       "    <tr>\n",
       "      <th>7</th>\n",
       "      <td>8</td>\n",
       "      <td>0.7</td>\n",
       "      <td>-0.578307</td>\n",
       "      <td>0.218042</td>\n",
       "      <td>0.153964</td>\n",
       "      <td>1.222439</td>\n",
       "      <td>-0.599025</td>\n",
       "    </tr>\n",
       "    <tr>\n",
       "      <th>8</th>\n",
       "      <td>8</td>\n",
       "      <td>0.8</td>\n",
       "      <td>0.144732</td>\n",
       "      <td>0.233710</td>\n",
       "      <td>0.153964</td>\n",
       "      <td>1.222439</td>\n",
       "      <td>-0.007552</td>\n",
       "    </tr>\n",
       "    <tr>\n",
       "      <th>9</th>\n",
       "      <td>8</td>\n",
       "      <td>0.9</td>\n",
       "      <td>1.091171</td>\n",
       "      <td>0.255769</td>\n",
       "      <td>0.153964</td>\n",
       "      <td>1.222439</td>\n",
       "      <td>0.766670</td>\n",
       "    </tr>\n",
       "    <tr>\n",
       "      <th>10</th>\n",
       "      <td>8</td>\n",
       "      <td>1.0</td>\n",
       "      <td>1.881008</td>\n",
       "      <td>0.278399</td>\n",
       "      <td>0.153964</td>\n",
       "      <td>1.222439</td>\n",
       "      <td>1.412786</td>\n",
       "    </tr>\n",
       "  </tbody>\n",
       "</table>\n",
       "</div>"
      ],
      "text/plain": [
       "    subj.num  secs.since.peak  avg.signal  sd.signal      mean        sd  \\\n",
       "0          8              0.0    2.003073   0.204452  0.153964  1.222439   \n",
       "1          8              0.1    0.736216   0.373815  0.153964  1.222439   \n",
       "2          8              0.2   -0.260717   0.229624  0.153964  1.222439   \n",
       "3          8              0.3   -0.720213   0.182797  0.153964  1.222439   \n",
       "4          8              0.4   -0.884780   0.177141  0.153964  1.222439   \n",
       "5          8              0.5   -0.871661   0.193434  0.153964  1.222439   \n",
       "6          8              0.6   -0.846923   0.151491  0.153964  1.222439   \n",
       "7          8              0.7   -0.578307   0.218042  0.153964  1.222439   \n",
       "8          8              0.8    0.144732   0.233710  0.153964  1.222439   \n",
       "9          8              0.9    1.091171   0.255769  0.153964  1.222439   \n",
       "10         8              1.0    1.881008   0.278399  0.153964  1.222439   \n",
       "\n",
       "           z  \n",
       "0   1.512639  \n",
       "1   0.476304  \n",
       "2  -0.339224  \n",
       "3  -0.715109  \n",
       "4  -0.849731  \n",
       "5  -0.838999  \n",
       "6  -0.818762  \n",
       "7  -0.599025  \n",
       "8  -0.007552  \n",
       "9   0.766670  \n",
       "10  1.412786  "
      ]
     },
     "execution_count": 21,
     "metadata": {},
     "output_type": "execute_result"
    }
   ],
   "source": [
    "# Look at all the values for just subject 8\n",
    "boolIdx = np.all([(wsf8_df['subj.num'] >= 8), (wsf8_df['subj.num'] <= 8), ((wsf8_df['subj.num']%1) == 0)], axis=0)\n",
    "subset_df = wsf8_df.loc[boolIdx,:].copy()\n",
    "subset_df"
   ]
  },
  {
   "cell_type": "code",
   "execution_count": 22,
   "metadata": {},
   "outputs": [],
   "source": [
    "# Import the things we'll need\n",
    "from sklearn.gaussian_process import GaussianProcessRegressor\n",
    "from sklearn.gaussian_process.kernels import RBF"
   ]
  },
  {
   "cell_type": "code",
   "execution_count": 23,
   "metadata": {},
   "outputs": [],
   "source": [
    "x = subset_df[\"secs.since.peak\"]\n",
    "y = 1000* subset_df[\"z\"]\n",
    "y_var = y"
   ]
  },
  {
   "cell_type": "code",
   "execution_count": 24,
   "metadata": {},
   "outputs": [],
   "source": [
    "# Construct a kernel, setting an intial length and amplitude\n",
    "# Ideally these should be (perhaps crudely) estimated from data\n",
    "initial_ell = (np.amax(x) - np.amin(x)) / 10\n",
    "initial_scale = np.var( y ) \n",
    "rbf_kernel = initial_scale * RBF(length_scale=initial_ell, \n",
    "    length_scale_bounds=(initial_ell/20, 5 * initial_ell))\n",
    "\n",
    "# Consrtuct the GP object: note the way the uncertainty in y_train enters\n",
    "gp = GaussianProcessRegressor( kernel=rbf_kernel, alpha=y_var )"
   ]
  },
  {
   "cell_type": "code",
   "execution_count": 25,
   "metadata": {},
   "outputs": [],
   "source": [
    "# Fit things\n",
    "x_vec = x[:, np.newaxis] # makes x into a column vector\n",
    "gp.fit( x_vec, y )\n",
    "\n",
    "# Get the fitted A and ell from the posterior\n",
    "fitted_kernel = gp.kernel_\n",
    "fitted_params = fitted_kernel.get_params()\n",
    "A = math.sqrt( fitted_params[\"k1__constant_value\"] )\n",
    "ell = fitted_params[\"k2__length_scale\"]"
   ]
  },
  {
   "cell_type": "code",
   "execution_count": 26,
   "metadata": {},
   "outputs": [],
   "source": [
    "xVals = np.linspace( 0, 1.0)"
   ]
  },
  {
   "cell_type": "code",
   "execution_count": 27,
   "metadata": {},
   "outputs": [
    {
     "name": "stderr",
     "output_type": "stream",
     "text": [
      "C:\\Anaconda3\\lib\\site-packages\\sklearn\\gaussian_process\\gpr.py:346: UserWarning: Predicted variances smaller than 0. Setting those variances to 0.\n",
      "  warnings.warn(\"Predicted variances smaller than 0. \"\n",
      "C:\\Anaconda3\\lib\\site-packages\\sklearn\\gaussian_process\\gpr.py:380: RuntimeWarning: covariance is not symmetric positive-semidefinite.\n",
      "  y_samples = rng.multivariate_normal(y_mean, y_cov, n_samples).T\n"
     ]
    },
    {
     "data": {
      "text/plain": [
       "Text(0.5, 0, 'Seconds since peak')"
      ]
     },
     "execution_count": 27,
     "metadata": {},
     "output_type": "execute_result"
    },
    {
     "data": {
      "image/png": "[encoded data removed]",
      "text/plain": [
       "<Figure size 432x288 with 1 Axes>"
      ]
     },
     "metadata": {
      "needs_background": "light"
     },
     "output_type": "display_data"
    }
   ],
   "source": [
    "# Make predictions at positions listed in a vector xVals\n",
    "xVal_vec = xVals[:, np.newaxis] # Build the N-by-1 array\n",
    "y_mean, y_std = gp.predict(xVal_vec, return_std=True)\n",
    "\n",
    "# Plot the mean with a +/- one std_dev shaded band\n",
    "plt.plot( xVals, y_mean, color=\"royalblue\" )\n",
    "plt.fill_between(xVals, y_mean - y_std, y_mean + y_std, alpha=0.5, color=\"lightsteelblue\" )\n",
    "\n",
    "# Construct and plot random functions drawn from the posterior\n",
    "nSamples = 5\n",
    "y_samples = gp.sample_y( xVal_vec, nSamples )\n",
    "plt.plot( xVals, y_samples, color=\"brown\" )\n",
    "plt.ylabel ('Standerdised signal')\n",
    "plt.xlabel ('Seconds since peak')"
   ]
  },
  {
   "cell_type": "code",
   "execution_count": 28,
   "metadata": {},
   "outputs": [
    {
     "data": {
      "text/plain": [
       "-99.56702609616624"
      ]
     },
     "execution_count": 28,
     "metadata": {},
     "output_type": "execute_result"
    }
   ],
   "source": [
    "# Evaluate the log likelihood at (A, ell). \n",
    "gp.log_marginal_likelihood( [math.log(A*A), math.log(ell)] )"
   ]
  },
  {
   "cell_type": "code",
   "execution_count": 29,
   "metadata": {},
   "outputs": [
    {
     "name": "stdout",
     "output_type": "stream",
     "text": [
      "<bound method GaussianProcessRegressor.predict of GaussianProcessRegressor(alpha=0     1512.639289\n",
      "1      476.303641\n",
      "2     -339.224223\n",
      "3     -715.109293\n",
      "4     -849.730693\n",
      "5     -838.999084\n",
      "6     -818.761983\n",
      "7     -599.024740\n",
      "8       -7.552401\n",
      "9      766.669787\n",
      "10    1412.785795\n",
      "Name: z, dtype: float64,\n",
      "                         copy_X_train=True,\n",
      "                         kernel=862**2 * RBF(length_scale=0.1),\n",
      "                         n_restarts_optimizer=0, normalize_y=False,\n",
      "                         optimizer='fmin_l_bfgs_b', random_state=None)>\n"
     ]
    }
   ],
   "source": [
    "print(gp.predict)"
   ]
  },
  {
   "cell_type": "code",
   "execution_count": 30,
   "metadata": {
    "scrolled": true
   },
   "outputs": [
    {
     "data": {
      "text/plain": [
       "Text(0.5, 0, 'Z scores for seconds since peak')"
      ]
     },
     "execution_count": 30,
     "metadata": {},
     "output_type": "execute_result"
    },
    {
     "data": {
      "image/png": "[encoded data removed]",
      "text/plain": [
       "<Figure size 432x288 with 1 Axes>"
      ]
     },
     "metadata": {
      "needs_background": "light"
     },
     "output_type": "display_data"
    }
   ],
   "source": [
    "x = [1478.48880642, -878.30426846, 1491.2349862, -857.20725323, 1452.33746262, -876.06169614, 1496.88396785, -866.09422928, 1429.21754944, -867.59427545]\n",
    "plt.hist (x, bins = 50)\n",
    "plt.ylabel ('Frequency')\n",
    "plt.xlabel ('Z scores for seconds since peak')"
   ]
  }
 ],
 "metadata": {
  "kernelspec": {
   "display_name": "Python 3",
   "language": "python",
   "name": "python3"
  },
  "language_info": {
   "codemirror_mode": {
    "name": "ipython",
    "version": 3
   },
   "file_extension": ".py",
   "mimetype": "text/x-python",
   "name": "python",
   "nbconvert_exporter": "python",
   "pygments_lexer": "ipython3",
   "version": "3.7.3"
  }
 },
 "nbformat": 4,
 "nbformat_minor": 2
}
